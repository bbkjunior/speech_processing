{
 "cells": [
  {
   "cell_type": "code",
   "execution_count": 1,
   "metadata": {
    "collapsed": true
   },
   "outputs": [],
   "source": [
    "import numpy as np\n",
    "\n",
    "import os\n",
    "from os.path import  join"
   ]
  },
  {
   "cell_type": "code",
   "execution_count": 2,
   "metadata": {
    "collapsed": true
   },
   "outputs": [],
   "source": [
    "#clean_data_path = \"D://test_neurolab//train//clean\"\n",
    "clean_data_path = \"C://input//neurolab//train//train//clean\""
   ]
  },
  {
   "cell_type": "code",
   "execution_count": 3,
   "metadata": {
    "collapsed": true
   },
   "outputs": [],
   "source": [
    "st = 0 \n",
    "clean_data = []\n",
    "for folder in os.listdir(clean_data_path):\n",
    "    for file in os.listdir(join(clean_data_path, folder)):\n",
    "        data = np.load(join(clean_data_path, folder, file))\n",
    "        clean_data.append(data)\n",
    "        #clead_data_sizes.append(data.size)\n",
    "        #clead_data_shape.append(data.shape)"
   ]
  },
  {
   "cell_type": "code",
   "execution_count": 4,
   "metadata": {
    "collapsed": true
   },
   "outputs": [],
   "source": [
    "#noisy_data_path = \"D://test_neurolab//train//noisy\"\n",
    "noisy_data_path = \"C://input//neurolab//train//train//noisy\""
   ]
  },
  {
   "cell_type": "code",
   "execution_count": 5,
   "metadata": {
    "collapsed": true
   },
   "outputs": [],
   "source": [
    "noisy_data = []\n",
    "for folder in os.listdir(noisy_data_path):\n",
    "    for file in os.listdir(join(noisy_data_path, folder)):\n",
    "        data= np.load(join(noisy_data_path, folder, file))\n",
    "        noisy_data.append(data)"
   ]
  },
  {
   "cell_type": "code",
   "execution_count": 6,
   "metadata": {
    "collapsed": true
   },
   "outputs": [],
   "source": [
    "ex_data = clean_data[1]"
   ]
  },
  {
   "cell_type": "code",
   "execution_count": 7,
   "metadata": {},
   "outputs": [
    {
     "name": "stdout",
     "output_type": "stream",
     "text": [
      "mel size (658, 80)\n",
      "current size 0 79\n",
      "(6400,)\n",
      "current size 80 159\n",
      "(6400,)\n",
      "current size 160 239\n",
      "(6400,)\n",
      "current size 240 319\n",
      "(6400,)\n",
      "current size 320 399\n",
      "(6400,)\n",
      "current size 400 479\n",
      "(6400,)\n",
      "current size 480 559\n",
      "(6400,)\n",
      "current size 560 639\n",
      "(6400,)\n",
      "not enough real data left 19\n"
     ]
    }
   ],
   "source": [
    "def get_rect_windows(mel, debug = False):\n",
    "    if (debug): print(\"mel size\", mel.shape)\n",
    "    windows = []\n",
    "    for i in range(mel.shape[0]//80 + 1):\n",
    "        if (80*(i+1)-1 < mel.shape[0]):\n",
    "            if (debug): print(\"current size\", 80*i, 80*(i+1)-1)\n",
    "                \n",
    "            ixgrid = np.ix_(range(80*i, 80*(i+1)), range(80))\n",
    "            sample = mel[ixgrid]\n",
    "            sample = sample.flatten()\n",
    "            windows.append(sample)\n",
    "            \n",
    "            if (debug): print(sample.shape)\n",
    "        elif(80 - (80*(i+1)-1 - mel.shape[0]) > 30): \n",
    "            \n",
    "            if (debug): print(\"current size\", 80*i, 80*(i+1)-1)\n",
    "            ixgrid = np.ix_(range(80*i, mel.shape[0]), range(80))\n",
    "            if (debug): print(mel[ixgrid].shape)                \n",
    "            pad_matrix = np.pad(mel[ixgrid], ((0, 80 - mel[ixgrid].shape[0]), (0, 0)), 'reflect')\n",
    "            \n",
    "            pad_matrix = pad_matrix.flatten()  \n",
    "            if (debug): print(pad_matrix.shape) \n",
    "            windows.append(pad_matrix)\n",
    "        else:\n",
    "            if (debug): print(\"not enough real data left\", 80 - (80*(i+1)-1 - mel.shape[0]))\n",
    "    return windows\n",
    "a = get_rect_windows(ex_data, debug = True)"
   ]
  },
  {
   "cell_type": "code",
   "execution_count": 8,
   "metadata": {
    "collapsed": true
   },
   "outputs": [],
   "source": [
    "clean_data_wind = []\n",
    "for mel in clean_data:\n",
    "    new_windows = get_rect_windows(mel)\n",
    "    clean_data_wind.extend(new_windows)"
   ]
  },
  {
   "cell_type": "code",
   "execution_count": null,
   "metadata": {
    "collapsed": true
   },
   "outputs": [],
   "source": []
  },
  {
   "cell_type": "code",
   "execution_count": 9,
   "metadata": {
    "collapsed": true
   },
   "outputs": [],
   "source": [
    "noisy_data_wind = []\n",
    "for mel in noisy_data:\n",
    "    new_windows = get_rect_windows(mel)\n",
    "    noisy_data_wind.extend(new_windows)"
   ]
  },
  {
   "cell_type": "code",
   "execution_count": 27,
   "metadata": {
    "scrolled": true
   },
   "outputs": [
    {
     "data": {
      "text/plain": [
       "(115403, 115403)"
      ]
     },
     "execution_count": 27,
     "metadata": {},
     "output_type": "execute_result"
    }
   ],
   "source": [
    "len(clean_data_wind),len(noisy_data_wind)"
   ]
  },
  {
   "cell_type": "code",
   "execution_count": 33,
   "metadata": {},
   "outputs": [
    {
     "data": {
      "text/plain": [
       "([1, 2, 2, 3], None)"
      ]
     },
     "execution_count": 33,
     "metadata": {},
     "output_type": "execute_result"
    }
   ],
   "source": [
    "a = [1,2] \n",
    "b = [2,3]\n",
    "c = a.extend(b)\n",
    "a,c"
   ]
  },
  {
   "cell_type": "code",
   "execution_count": 40,
   "metadata": {
    "collapsed": true
   },
   "outputs": [],
   "source": [
    "y_train_clean = [0 for _ in range(len(clean_data_wind))]\n",
    "y_train_noisy = [1 for _ in range(len(noisy_data_wind))]\n",
    "y_train = y_train_clean + y_train_noisy"
   ]
  },
  {
   "cell_type": "code",
   "execution_count": 39,
   "metadata": {},
   "outputs": [
    {
     "data": {
      "text/plain": [
       "230806"
      ]
     },
     "execution_count": 39,
     "metadata": {},
     "output_type": "execute_result"
    }
   ],
   "source": [
    "len(y_train)"
   ]
  },
  {
   "cell_type": "code",
   "execution_count": 39,
   "metadata": {
    "collapsed": true
   },
   "outputs": [],
   "source": [
    "x_train = clean_data_wind + noisy_data_wind"
   ]
  },
  {
   "cell_type": "code",
   "execution_count": 43,
   "metadata": {},
   "outputs": [
    {
     "data": {
      "text/plain": [
       "230806"
      ]
     },
     "execution_count": 43,
     "metadata": {},
     "output_type": "execute_result"
    }
   ],
   "source": [
    "len(X)"
   ]
  },
  {
   "cell_type": "raw",
   "metadata": {
    "collapsed": true
   },
   "source": [
    "https://towardsdatascience.com/building-a-logistic-regression-in-python-step-by-step-becd4d56c9c8"
   ]
  },
  {
   "cell_type": "code",
   "execution_count": 12,
   "metadata": {
    "collapsed": true
   },
   "outputs": [],
   "source": [
    "from sklearn.linear_model import LogisticRegression\n",
    "from sklearn.model_selection import train_test_split\n",
    "\n",
    "import pickle\n",
    "\n",
    "from sklearn.metrics import confusion_matrix\n",
    "from sklearn.metrics import classification_report\n",
    "\n",
    "from sklearn.model_selection import GridSearchCV"
   ]
  },
  {
   "cell_type": "code",
   "execution_count": 42,
   "metadata": {},
   "outputs": [
    {
     "data": {
      "text/plain": [
       "(230806, 230806)"
      ]
     },
     "execution_count": 42,
     "metadata": {},
     "output_type": "execute_result"
    }
   ],
   "source": [
    "len(x_train),len(y_train)"
   ]
  },
  {
   "cell_type": "code",
   "execution_count": null,
   "metadata": {},
   "outputs": [
    {
     "name": "stdout",
     "output_type": "stream",
     "text": [
      "[LibLinear][LibLinear][LibLinear][LibLinear][LibLinear][LibLinear][LibLinear][LibLinear]"
     ]
    }
   ],
   "source": [
    "logreg = LogisticRegression(class_weight='balanced', verbose = 15)\n",
    "param = {'C':[0.001,0.003,0.005,0.01,0.03,0.05,0.1,0.3,0.5,1,2,3,3,4,5,10,20]}\n",
    "clf = GridSearchCV(logreg,param,scoring='roc_auc',refit=True,cv=3)\n",
    "clf.fit(X,y)"
   ]
  },
  {
   "cell_type": "code",
   "execution_count": 14,
   "metadata": {},
   "outputs": [
    {
     "data": {
      "text/plain": [
       "LogisticRegression(C=1.0, class_weight=None, dual=False, fit_intercept=True,\n",
       "          intercept_scaling=1, max_iter=100, multi_class='ovr', n_jobs=1,\n",
       "          penalty='l2', random_state=None, solver='liblinear', tol=0.0001,\n",
       "          verbose=0, warm_start=False)"
      ]
     },
     "execution_count": 14,
     "metadata": {},
     "output_type": "execute_result"
    }
   ],
   "source": [
    "#X_train, X_test, y_train, y_test = train_test_split(X, y, test_size=0.3, random_state=0)\n",
    "logreg = LogisticRegression()\n",
    "logreg.fit(X, y)"
   ]
  },
  {
   "cell_type": "raw",
   "metadata": {},
   "source": [
    "# https://www.kaggle.com/sudhirnl7/logistic-regression-with-stratifiedkfold\n",
    "    Hyperparameter tuning"
   ]
  },
  {
   "cell_type": "code",
   "execution_count": 36,
   "metadata": {},
   "outputs": [],
   "source": [
    "filename = 'logreg.sav'\n",
    "pickle.dump(logreg, open(filename, 'wb'))"
   ]
  },
  {
   "cell_type": "code",
   "execution_count": 23,
   "metadata": {},
   "outputs": [
    {
     "data": {
      "text/plain": [
       "(658, 80)"
      ]
     },
     "execution_count": 23,
     "metadata": {},
     "output_type": "execute_result"
    }
   ],
   "source": [
    "ex_data = clean_data[1]\n",
    "ex_data.shape"
   ]
  },
  {
   "cell_type": "code",
   "execution_count": 26,
   "metadata": {},
   "outputs": [
    {
     "data": {
      "text/plain": [
       "array([1])"
      ]
     },
     "execution_count": 26,
     "metadata": {},
     "output_type": "execute_result"
    }
   ],
   "source": [
    "logreg.predict(noisy_data_wind[0].reshape(1, -1))"
   ]
  },
  {
   "cell_type": "code",
   "execution_count": 24,
   "metadata": {},
   "outputs": [
    {
     "name": "stdout",
     "output_type": "stream",
     "text": [
      "mel size (685, 80)\n",
      "current size 0 79\n",
      "[0]\n",
      "current size 80 159\n",
      "[0]\n",
      "current size 160 239\n",
      "[0]\n",
      "current size 240 319\n",
      "[0]\n",
      "current size 320 399\n",
      "[0]\n",
      "current size 400 479\n",
      "[0]\n",
      "current size 480 559\n",
      "[0]\n",
      "current size 560 639\n",
      "[0]\n",
      "current size 640 719\n",
      "(45, 80)\n",
      "(6400,)\n",
      "[array([0]), array([0]), array([0]), array([0]), array([0]), array([0]), array([0]), array([0]), array([0])]\n"
     ]
    },
    {
     "data": {
      "text/plain": [
       "0"
      ]
     },
     "execution_count": 24,
     "metadata": {},
     "output_type": "execute_result"
    }
   ],
   "source": [
    "def predict_by_mel(mel, model,debug = False):\n",
    "    if (debug): print(\"mel size\", mel.shape)\n",
    "    predictions = []\n",
    "    for i in range(mel.shape[0]//80 + 1):\n",
    "        if (80*(i+1)-1 < mel.shape[0]):\n",
    "            if (debug): print(\"current size\", 80*i, 80*(i+1)-1)\n",
    "                \n",
    "            ixgrid = np.ix_(range(80*i, 80*(i+1)), range(80))\n",
    "            sample = mel[ixgrid]\n",
    "            sample = sample.flatten()\n",
    "            \n",
    "            current_prediction = model.predict(sample.reshape(1, -1))\n",
    "            \n",
    "            predictions.append(current_prediction)\n",
    "            \n",
    "            #if (debug): print(sample.shape)\n",
    "            if (debug): print(current_prediction)\n",
    "        elif(80 - (80*(i+1)-1 - mel.shape[0]) > 30): \n",
    "            \n",
    "            if (debug): print(\"current size\", 80*i, 80*(i+1)-1)\n",
    "            ixgrid = np.ix_(range(80*i, mel.shape[0]), range(80))\n",
    "            if (debug): print(mel[ixgrid].shape)                \n",
    "            pad_matrix = np.pad(mel[ixgrid], ((0, 80 - mel[ixgrid].shape[0]), (0, 0)), 'reflect')\n",
    "            pad_matrix = pad_matrix.flatten()  \n",
    "            if (debug): print(pad_matrix.shape) \n",
    "            current_prediction = model.predict(pad_matrix.reshape(1, -1))   \n",
    "            predictions.append(current_prediction)\n",
    "        else:\n",
    "            if (debug): print(\"not enough real data left\", 80 - (80*(i+1)-1 - mel.shape[0]))\n",
    "    av_predictions = np.mean(predictions) \n",
    "    if (debug) : print(predictions)   \n",
    "    if(av_predictions > 0.5):\n",
    "        final_prediction = 1\n",
    "    else:\n",
    "        final_prediction = 0\n",
    "         \n",
    "    return final_prediction\n",
    "predict_by_mel(X_val[0], logreg, debug = True)"
   ]
  },
  {
   "cell_type": "code",
   "execution_count": null,
   "metadata": {
    "collapsed": true
   },
   "outputs": [],
   "source": []
  },
  {
   "cell_type": "markdown",
   "metadata": {},
   "source": [
    "# VALIDATION"
   ]
  },
  {
   "cell_type": "code",
   "execution_count": 16,
   "metadata": {
    "collapsed": true
   },
   "outputs": [],
   "source": [
    "clean_data_path_val = \"C://input//neurolab//val//clean\"\n",
    "clean_data_val = []\n",
    "for folder in os.listdir(clean_data_path_val):\n",
    "    for file in os.listdir(join(clean_data_path_val, folder)):\n",
    "        data = np.load(join(clean_data_path_val, folder, file))\n",
    "        clean_data_val.append(data)\n",
    "        \n",
    "noisy_data_path_val = \"C://input//neurolab//val//noisy\"\n",
    "noisy_data_val = []\n",
    "for folder in os.listdir(noisy_data_path_val):\n",
    "    for file in os.listdir(join(noisy_data_path_val, folder)):\n",
    "        data= np.load(join(noisy_data_path_val, folder, file))\n",
    "        noisy_data_val.append(data)\n",
    "\n"
   ]
  },
  {
   "cell_type": "raw",
   "metadata": {},
   "source": [
    "clean_data_wind_val = []\n",
    "for mel in clean_data_val:\n",
    "    new_windows = get_rect_windows(mel)\n",
    "    clean_data_wind_val.extend(new_windows)\n",
    "    \n",
    "noisy_data_wind_val = []\n",
    "for mel in noisy_data_val:\n",
    "    new_windows = get_rect_windows(mel)\n",
    "    noisy_data_wind_val.extend(new_windows)\n",
    "    \n",
    "y_train_clean_val = [0 for _ in range(len(clean_data_wind_val))]\n",
    "y_train_noisy_val = [1 for _ in range(len(clean_data_wind_val))]\n",
    "y = y_train_clean_val + y_train_noisy_val\n",
    "\n",
    "X_val = clean_data_wind_val + noisy_data_wind_val"
   ]
  },
  {
   "cell_type": "code",
   "execution_count": 27,
   "metadata": {
    "collapsed": true
   },
   "outputs": [],
   "source": [
    "X_val = clean_data_val + noisy_data_val\n",
    "y_train_clean_val = [0 for _ in range(len(clean_data_val))]\n",
    "y_train_noisy_val = [1 for _ in range(len(noisy_data_val))]\n",
    "y_val = y_train_clean_val + y_train_noisy_val"
   ]
  },
  {
   "cell_type": "code",
   "execution_count": null,
   "metadata": {
    "collapsed": true
   },
   "outputs": [],
   "source": []
  },
  {
   "cell_type": "code",
   "execution_count": 18,
   "metadata": {
    "collapsed": true
   },
   "outputs": [],
   "source": [
    "import tqdm"
   ]
  },
  {
   "cell_type": "code",
   "execution_count": 37,
   "metadata": {},
   "outputs": [
    {
     "data": {
      "text/plain": [
       "(685, 80)"
      ]
     },
     "execution_count": 37,
     "metadata": {},
     "output_type": "execute_result"
    }
   ],
   "source": [
    "X_val[0].shape"
   ]
  },
  {
   "cell_type": "code",
   "execution_count": 26,
   "metadata": {},
   "outputs": [],
   "source": [
    "y_predict = []\n",
    "for ind in range(len(X_val)):\n",
    "    pred = predict_by_mel(X_val[ind], logreg)\n",
    "    y_predict.append(pred)\n",
    "    "
   ]
  },
  {
   "cell_type": "code",
   "execution_count": 28,
   "metadata": {},
   "outputs": [
    {
     "name": "stdout",
     "output_type": "stream",
     "text": [
      "[[1825  175]\n",
      " [ 220 1780]]\n"
     ]
    }
   ],
   "source": [
    "confusion_matrix = confusion_matrix(y_val, y_predict)\n",
    "print(confusion_matrix)"
   ]
  },
  {
   "cell_type": "code",
   "execution_count": 32,
   "metadata": {},
   "outputs": [
    {
     "name": "stdout",
     "output_type": "stream",
     "text": [
      "             precision    recall  f1-score   support\n",
      "\n",
      "          0       0.89      0.91      0.90      2000\n",
      "          1       0.91      0.89      0.90      2000\n",
      "\n",
      "avg / total       0.90      0.90      0.90      4000\n",
      "\n"
     ]
    }
   ],
   "source": [
    "print (classification_report(y_val, y_predict))"
   ]
  },
  {
   "cell_type": "code",
   "execution_count": null,
   "metadata": {
    "collapsed": true
   },
   "outputs": [],
   "source": [
    "https://lukesingham.com/whos-going-to-leave-next/"
   ]
  },
  {
   "cell_type": "code",
   "execution_count": 34,
   "metadata": {
    "collapsed": true
   },
   "outputs": [],
   "source": [
    "from sklearn.tree import DecisionTreeClassifier"
   ]
  },
  {
   "cell_type": "code",
   "execution_count": 33,
   "metadata": {},
   "outputs": [
    {
     "ename": "NameError",
     "evalue": "name 'tree' is not defined",
     "output_type": "error",
     "traceback": [
      "\u001b[1;31m---------------------------------------------------------------------------\u001b[0m",
      "\u001b[1;31mNameError\u001b[0m                                 Traceback (most recent call last)",
      "\u001b[1;32m<ipython-input-33-13a8b8c07ddd>\u001b[0m in \u001b[0;36m<module>\u001b[1;34m()\u001b[0m\n\u001b[1;32m----> 1\u001b[1;33m \u001b[0mtree_model\u001b[0m \u001b[1;33m=\u001b[0m \u001b[0mtree\u001b[0m\u001b[1;33m.\u001b[0m\u001b[0mDecisionTreeClassifier\u001b[0m\u001b[1;33m(\u001b[0m\u001b[0mmax_depth\u001b[0m\u001b[1;33m=\u001b[0m\u001b[1;36m3\u001b[0m\u001b[1;33m)\u001b[0m\u001b[1;33m\u001b[0m\u001b[0m\n\u001b[0m",
      "\u001b[1;31mNameError\u001b[0m: name 'tree' is not defined"
     ]
    }
   ],
   "source": [
    "tree_model = tree.DecisionTreeClassifier(max_depth=3)  \n",
    "# Fit a decision tree\n",
    "tree_model = tree_model.fit(x_train, y_train)  \n",
    "# Training accuracy\n",
    "tree_model.score(x_train, y_train)"
   ]
  },
  {
   "cell_type": "code",
   "execution_count": 38,
   "metadata": {
    "collapsed": true
   },
   "outputs": [],
   "source": [
    "from sklearn.ensemble import RandomForestClassifier"
   ]
  },
  {
   "cell_type": "code",
   "execution_count": null,
   "metadata": {
    "collapsed": true
   },
   "outputs": [],
   "source": [
    "rf = RandomForestClassifier()  \n",
    "# Fit\n",
    "rf_model = rf.fit(x_train, y_train)  \n",
    "# training accuracy 99.74%\n",
    "rf_model.score(x_train, y_train)\n",
    "\n",
    "# Predictions/probs on the test dataset\n",
    "predicted = pd.DataFrame(rf_model.predict(x_test))  \n",
    "probs = pd.DataFrame(rf_model.predict_proba(x_test))\n",
    "\n",
    "# Store metrics\n",
    "rf_accuracy = metrics.accuracy_score(y_test, predicted)  \n",
    "rf_roc_auc = metrics.roc_auc_score(y_test, probs[1])  \n",
    "rf_confus_matrix = metrics.confusion_matrix(y_test, predicted)  \n",
    "rf_classification_report = metrics.classification_report(y_test, predicted)  \n",
    "rf_precision = metrics.precision_score(y_test, predicted, pos_label=1)  \n",
    "rf_recall = metrics.recall_score(y_test, predicted, pos_label=1)  \n",
    "rf_f1 = metrics.f1_score(y_test, predicted, pos_label=1)\n",
    "\n",
    "# Evaluate the model using 10-fold cross-validation\n",
    "rf_cv_scores = cross_val_score(RandomForestClassifier(), x_test, y_test, scoring='precision', cv=10)  \n",
    "rf_cv_mean = np.mean(rf_cv_scores)"
   ]
  }
 ],
 "metadata": {
  "kernelspec": {
   "display_name": "Python 3",
   "language": "python",
   "name": "python3"
  },
  "language_info": {
   "codemirror_mode": {
    "name": "ipython",
    "version": 3
   },
   "file_extension": ".py",
   "mimetype": "text/x-python",
   "name": "python",
   "nbconvert_exporter": "python",
   "pygments_lexer": "ipython3",
   "version": "3.6.2"
  }
 },
 "nbformat": 4,
 "nbformat_minor": 2
}
