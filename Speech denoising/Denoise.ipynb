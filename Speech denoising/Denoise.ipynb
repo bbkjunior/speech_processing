{
 "cells": [
  {
   "cell_type": "code",
   "execution_count": 1,
   "metadata": {},
   "outputs": [],
   "source": [
    "import numpy as np\n",
    "\n",
    "import os\n",
    "from os.path import  join"
   ]
  },
  {
   "cell_type": "raw",
   "metadata": {},
   "source": [
    "The result of the above preprocessing is taken to be\n",
    "the input and output of the learning task. Namely, the\n",
    "normalized spectrogram corresponding to a window in\n",
    "the noisy audio track is given as input to the convolutional autoencoder, and the normalized spectrogram\n",
    "corresponding to the same window in the clean audio\n",
    "track is given as target to the convolutional autoencoder.\n",
    "In all cases, we train the models with stochastic\n",
    "gradient descent and Nesterov momentum, which provided minor improvements over Adagrad. We use\n",
    "L2 regularization with an extremely small weight of\n",
    "0.00001. In general, underfitting is a far greater challenge for our task than overfitting."
   ]
  },
  {
   "cell_type": "code",
   "execution_count": null,
   "metadata": {},
   "outputs": [],
   "source": [
    "http://cs231n.stanford.edu/reports/2015/pdfs/Final_Report_mkayser_vzhong.pdf"
   ]
  },
  {
   "cell_type": "code",
   "execution_count": 2,
   "metadata": {},
   "outputs": [],
   "source": [
    "clean_data_path = \"D://test_neurolab//train//clean\"\n",
    "#clean_data_path = \"C://input//neurolab//train//train//clean\"\n",
    "noisy_data_path = \"D://test_neurolab//train//noisy\""
   ]
  },
  {
   "cell_type": "code",
   "execution_count": 3,
   "metadata": {},
   "outputs": [],
   "source": [
    "clean_data = []\n",
    "for folder in os.listdir(clean_data_path):\n",
    "    for file in os.listdir(join(clean_data_path, folder)):\n",
    "        data = np.load(join(clean_data_path, folder, file))\n",
    "        clean_data.append(data)\n",
    "        \n",
    "noisy_data = []\n",
    "for folder in os.listdir(noisy_data_path):\n",
    "    for file in os.listdir(join(noisy_data_path, folder)):\n",
    "        data= np.load(join(noisy_data_path, folder, file))\n",
    "        noisy_data.append(data)"
   ]
  },
  {
   "cell_type": "code",
   "execution_count": null,
   "metadata": {},
   "outputs": [],
   "source": [
    "def get_rect_windows(mel, debug = False):\n",
    "    if (debug): print(\"mel size\", mel.shape)\n",
    "    windows = []\n",
    "    for i in range(mel.shape[0]//80 + 1):\n",
    "        if (80*(i+1)-1 < mel.shape[0]):\n",
    "            if (debug): print(\"current size\", 80*i, 80*(i+1)-1)\n",
    "                \n",
    "            ixgrid = np.ix_(range(80*i, 80*(i+1)), range(80))\n",
    "            sample = mel[ixgrid]\n",
    "            sample = sample.flatten()\n",
    "            windows.append(sample)\n",
    "            \n",
    "            if (debug): print(sample.shape)\n",
    "        elif(80 - (80*(i+1)-1 - mel.shape[0]) > 30): \n",
    "            \n",
    "            if (debug): print(\"current size\", 80*i, 80*(i+1)-1)\n",
    "            ixgrid = np.ix_(range(80*i, mel.shape[0]), range(80))\n",
    "            if (debug): print(mel[ixgrid].shape)                \n",
    "            pad_matrix = np.pad(mel[ixgrid], ((0, 80 - mel[ixgrid].shape[0]), (0, 0)), 'reflect')\n",
    "            \n",
    "            pad_matrix = pad_matrix.flatten()  \n",
    "            if (debug): print(pad_matrix.shape) \n",
    "            windows.append(pad_matrix)\n",
    "        else:\n",
    "            if (debug): print(\"not enough real data left\", 80 - (80*(i+1)-1 - mel.shape[0]))\n",
    "    return windows\n",
    "ex_data = clean_data[0]\n",
    "a = get_rect_windows(ex_data, debug = True)"
   ]
  },
  {
   "cell_type": "code",
   "execution_count": null,
   "metadata": {},
   "outputs": [],
   "source": [
    "clean_data_wind = []\n",
    "for mel in clean_data:\n",
    "    new_windows = get_rect_windows(mel)\n",
    "    clean_data_wind.extend(new_windows)\n",
    "    \n",
    "noisy_data_wind = []\n",
    "for mel in noisy_data:\n",
    "    new_windows = get_rect_windows(mel)\n",
    "    noisy_data_wind.extend(new_windows)"
   ]
  }
 ],
 "metadata": {
  "kernelspec": {
   "display_name": "Python 3",
   "language": "python",
   "name": "python3"
  },
  "language_info": {
   "codemirror_mode": {
    "name": "ipython",
    "version": 3
   },
   "file_extension": ".py",
   "mimetype": "text/x-python",
   "name": "python",
   "nbconvert_exporter": "python",
   "pygments_lexer": "ipython3",
   "version": "3.6.4"
  }
 },
 "nbformat": 4,
 "nbformat_minor": 2
}
