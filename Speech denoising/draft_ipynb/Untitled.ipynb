{
 "cells": [
  {
   "cell_type": "raw",
   "metadata": {},
   "source": [
    "пар mel-спектрограмм(чистый звук + зашумленный звук)"
   ]
  },
  {
   "cell_type": "code",
   "execution_count": 8,
   "metadata": {
    "collapsed": true
   },
   "outputs": [],
   "source": [
    "import numpy as np\n",
    "\n",
    "import os\n",
    "from os.path import  join"
   ]
  },
  {
   "cell_type": "code",
   "execution_count": null,
   "metadata": {
    "collapsed": true
   },
   "outputs": [],
   "source": []
  },
  {
   "cell_type": "code",
   "execution_count": 9,
   "metadata": {},
   "outputs": [
    {
     "data": {
      "text/plain": [
       "numpy.ndarray"
      ]
     },
     "execution_count": 9,
     "metadata": {},
     "output_type": "execute_result"
    }
   ],
   "source": [
    "data= np.load(\"./npy_data/20_clean/20_205_20-205-0004.npy\")\n",
    "type(data)"
   ]
  },
  {
   "cell_type": "code",
   "execution_count": 10,
   "metadata": {},
   "outputs": [
    {
     "data": {
      "text/plain": [
       "70000"
      ]
     },
     "execution_count": 10,
     "metadata": {},
     "output_type": "execute_result"
    }
   ],
   "source": [
    "data.size"
   ]
  },
  {
   "cell_type": "code",
   "execution_count": 2,
   "metadata": {},
   "outputs": [
    {
     "data": {
      "text/plain": [
       "[]"
      ]
     },
     "execution_count": 2,
     "metadata": {},
     "output_type": "execute_result"
    }
   ],
   "source": [
    "[x[0] for x in os.walk(\"D:\\test_neurolab\\train\\clean\")]"
   ]
  },
  {
   "cell_type": "code",
   "execution_count": null,
   "metadata": {
    "collapsed": true
   },
   "outputs": [],
   "source": [
    "output = [dI for dI in os.listdir('foo') if os.path.isdir(os.path.join('foo',dI))]"
   ]
  },
  {
   "cell_type": "code",
   "execution_count": 33,
   "metadata": {
    "collapsed": true
   },
   "outputs": [],
   "source": [
    "st = 0 \n",
    "clean_data = []\n",
    "clead_data_sizes = []\n",
    "clead_data_shape = []\n",
    "clean_data_path = \"D://test_neurolab//train//clean\"\n",
    "for folder in os.listdir(clean_data_path):\n",
    "    for file in os.listdir(join(clean_data_path, folder)):\n",
    "        #print(join(clean_data_path, folder, file))\n",
    "        data = np.load(join(clean_data_path, folder, file))\n",
    "        clean_data.append(data)\n",
    "        clead_data_sizes.append(data.size)\n",
    "        clead_data_shape.append(data.shape)\n",
    "        #print(data.size)\n",
    "        #st += 1\n",
    "    #if st> 35: break"
   ]
  },
  {
   "cell_type": "code",
   "execution_count": 20,
   "metadata": {},
   "outputs": [
    {
     "data": {
      "text/plain": [
       "[77280, 52640, 33120, 77920, 69760, 72880, 77760, 72400, 83280, 68800]"
      ]
     },
     "execution_count": 20,
     "metadata": {},
     "output_type": "execute_result"
    }
   ],
   "source": [
    "clead_data_sizes[:10]"
   ]
  },
  {
   "cell_type": "code",
   "execution_count": 34,
   "metadata": {},
   "outputs": [
    {
     "data": {
      "text/plain": [
       "[(966, 80),\n",
       " (658, 80),\n",
       " (414, 80),\n",
       " (974, 80),\n",
       " (872, 80),\n",
       " (911, 80),\n",
       " (972, 80),\n",
       " (905, 80),\n",
       " (1041, 80),\n",
       " (860, 80)]"
      ]
     },
     "execution_count": 34,
     "metadata": {},
     "output_type": "execute_result"
    }
   ],
   "source": [
    "clead_data_shape[:10]"
   ]
  },
  {
   "cell_type": "code",
   "execution_count": 81,
   "metadata": {
    "collapsed": true
   },
   "outputs": [],
   "source": [
    "for shape in clead_data_shape:\n",
    "    if shape[1] != 80:\n",
    "        print (\"fff\")"
   ]
  },
  {
   "cell_type": "code",
   "execution_count": 22,
   "metadata": {
    "collapsed": true
   },
   "outputs": [],
   "source": [
    "noisy_data = []\n",
    "noisy_data_sizes = []\n",
    "noisy_data_path = \"D://test_neurolab//train//noisy\"\n",
    "for folder in os.listdir(noisy_data_path):\n",
    "    for file in os.listdir(join(noisy_data_path, folder)):\n",
    "        data= np.load(join(noisy_data_path, folder, file))\n",
    "        noisy_data.append(data)\n",
    "        noisy_data_sizes.append(data.size)"
   ]
  },
  {
   "cell_type": "code",
   "execution_count": 19,
   "metadata": {},
   "outputs": [
    {
     "data": {
      "text/plain": [
       "True"
      ]
     },
     "execution_count": 19,
     "metadata": {},
     "output_type": "execute_result"
    }
   ],
   "source": [
    "clead_data_sizes == noisy_data_sizes"
   ]
  },
  {
   "cell_type": "code",
   "execution_count": 32,
   "metadata": {},
   "outputs": [
    {
     "data": {
      "text/plain": [
       "(658, 80)"
      ]
     },
     "execution_count": 32,
     "metadata": {},
     "output_type": "execute_result"
    }
   ],
   "source": [
    "clean_data[1].shape"
   ]
  },
  {
   "cell_type": "code",
   "execution_count": null,
   "metadata": {
    "collapsed": true
   },
   "outputs": [],
   "source": []
  },
  {
   "cell_type": "raw",
   "metadata": {},
   "source": [
    "0. забить все нулями\n",
    "\n",
    "1. пройтись матрицей и захватывать данные, потом усреднять\n",
    "\n",
    "2. https://github.com/keras-team/keras/issues/85\n",
    "    to feed sequences to your model one sequence at a time (batch_size=1). Then differences in sequence lengths would be irrelevant.\n",
    "    https://machinelearningmastery.com/use-different-batch-sizes-training-predicting-python-keras/\n",
    "    \n",
    "???    \n",
    "    https://github.com/aiddun/jazzCNN\n",
    "    https://github.com/keunwoochoi/kapre\n",
    "    https://arxiv.org/pdf/1609.04243.pdf"
   ]
  },
  {
   "cell_type": "code",
   "execution_count": 35,
   "metadata": {
    "collapsed": true
   },
   "outputs": [],
   "source": [
    "a = np.arange(10).reshape(2, 5)"
   ]
  },
  {
   "cell_type": "code",
   "execution_count": 36,
   "metadata": {},
   "outputs": [
    {
     "data": {
      "text/plain": [
       "array([[0, 1, 2, 3, 4],\n",
       "       [5, 6, 7, 8, 9]])"
      ]
     },
     "execution_count": 36,
     "metadata": {},
     "output_type": "execute_result"
    }
   ],
   "source": [
    "a"
   ]
  },
  {
   "cell_type": "code",
   "execution_count": 43,
   "metadata": {},
   "outputs": [
    {
     "data": {
      "text/plain": [
       "(array([[0],\n",
       "        [1]]), array([[2, 3, 4]]))"
      ]
     },
     "execution_count": 43,
     "metadata": {},
     "output_type": "execute_result"
    }
   ],
   "source": [
    "ixgrid = np.ix_([0, 1], range(2,5))\n",
    "ixgrid"
   ]
  },
  {
   "cell_type": "code",
   "execution_count": 45,
   "metadata": {
    "collapsed": true
   },
   "outputs": [],
   "source": [
    "ex_data = clean_data[1]"
   ]
  },
  {
   "cell_type": "code",
   "execution_count": 51,
   "metadata": {},
   "outputs": [
    {
     "data": {
      "text/plain": [
       "658"
      ]
     },
     "execution_count": 51,
     "metadata": {},
     "output_type": "execute_result"
    }
   ],
   "source": [
    "ex_data.shape[0]"
   ]
  },
  {
   "cell_type": "code",
   "execution_count": 80,
   "metadata": {
    "scrolled": true
   },
   "outputs": [
    {
     "data": {
      "text/plain": [
       "array([[ 0.659 ,  0.661 ,  0.651 , ..., -0.4233, -0.3564, -0.3452],\n",
       "       [ 0.657 ,  0.6147,  0.637 , ..., -0.4607, -0.3926, -0.401 ],\n",
       "       [ 0.658 ,  0.5913,  0.621 , ..., -0.4739, -0.4219, -0.4275],\n",
       "       ...,\n",
       "       [ 0.639 ,  0.6084,  0.6504, ...,  0.383 ,  0.3877,  0.3706],\n",
       "       [ 0.6445,  0.6157,  0.6895, ...,  0.392 ,  0.385 ,  0.3386],\n",
       "       [ 0.643 ,  0.5596,  0.532 , ...,  0.4072,  0.3894,  0.2827]],\n",
       "      dtype=float16)"
      ]
     },
     "execution_count": 80,
     "metadata": {},
     "output_type": "execute_result"
    }
   ],
   "source": [
    "ixgrid = np.ix_(range(125), range(80))\n",
    "ex_data[ixgrid]"
   ]
  },
  {
   "cell_type": "code",
   "execution_count": 66,
   "metadata": {},
   "outputs": [
    {
     "data": {
      "text/plain": [
       "(658, 80)"
      ]
     },
     "execution_count": 66,
     "metadata": {},
     "output_type": "execute_result"
    }
   ],
   "source": [
    "ex_data.shape"
   ]
  },
  {
   "cell_type": "code",
   "execution_count": 135,
   "metadata": {
    "scrolled": true
   },
   "outputs": [
    {
     "name": "stdout",
     "output_type": "stream",
     "text": [
      "0 79\n",
      "(80, 80)\n",
      "80 159\n",
      "(80, 80)\n",
      "160 239\n",
      "(80, 80)\n",
      "240 319\n",
      "(80, 80)\n",
      "320 399\n",
      "(80, 80)\n",
      "400 479\n",
      "(80, 80)\n",
      "480 559\n",
      "(80, 80)\n",
      "560 639\n",
      "(80, 80)\n",
      "fufu 658\n",
      "(18, 80)\n",
      "(80, 80)\n"
     ]
    }
   ],
   "source": [
    "for i in range(ex_data.shape[0]//80 + 1):\n",
    "    if (80*(i+1)-1 < ex_data.shape[0]):\n",
    "        print(80*i, 80*(i+1)-1)\n",
    "        ixgrid = np.ix_(range(80*i, 80*(i+1)), range(80))\n",
    "        sample = ex_data[ixgrid]\n",
    "        print(ex_data[ixgrid].shape)\n",
    "        #print(ex_data[ixgrid])\n",
    "    else:\n",
    "        #zero_matrix = np.zeros((80,80))\n",
    "        print(\"fufu\",ex_data.shape[0])\n",
    "        ixgrid = np.ix_(range(80*i, ex_data.shape[0]), range(80))\n",
    "        print(ex_data[ixgrid].shape)\n",
    "        #print(ex_data[ixgrid])\n",
    "        #print(np.add(ex_data[ixgrid], (80,80),'reflect'))\n",
    "        pad_matrix = np.pad(ex_data[ixgrid], ((0, 80 - ex_data[ixgrid].shape[0]), (0, 0)), 'median')\n",
    "        print(pad_matrix.shape)"
   ]
  },
  {
   "cell_type": "code",
   "execution_count": 159,
   "metadata": {},
   "outputs": [
    {
     "name": "stdout",
     "output_type": "stream",
     "text": [
      "mel size (658, 80)\n",
      "current size 0 79\n",
      "(80, 80)\n",
      "current size 80 159\n",
      "(80, 80)\n",
      "current size 160 239\n",
      "(80, 80)\n",
      "current size 240 319\n",
      "(80, 80)\n",
      "current size 320 399\n",
      "(80, 80)\n",
      "current size 400 479\n",
      "(80, 80)\n",
      "current size 480 559\n",
      "(80, 80)\n",
      "current size 560 639\n",
      "(80, 80)\n",
      "not enough real data left 19\n"
     ]
    }
   ],
   "source": [
    "def get_rect_windows(mel, debug = False):\n",
    "    if (debug): print(\"mel size\", mel.shape)\n",
    "    windows = []\n",
    "    for i in range(mel.shape[0]//80 + 1):\n",
    "        if (80*(i+1)-1 < mel.shape[0]):\n",
    "            if (debug): print(\"current size\", 80*i, 80*(i+1)-1)\n",
    "                \n",
    "            ixgrid = np.ix_(range(80*i, 80*(i+1)), range(80))\n",
    "            sample = mel[ixgrid]\n",
    "            windows.append(sample)\n",
    "            \n",
    "            if (debug): print(mel[ixgrid].shape)\n",
    "        elif(80 - (80*(i+1)-1 - mel.shape[0]) > 30): \n",
    "            \n",
    "            if (debug): print(\"current size\", 80*i, 80*(i+1)-1)\n",
    "            ixgrid = np.ix_(range(80*i, mel.shape[0]), range(80))\n",
    "            if (debug): print(mel[ixgrid].shape)                \n",
    "            pad_matrix = np.pad(mel[ixgrid], ((0, 80 - mel[ixgrid].shape[0]), (0, 0)), 'median')\n",
    "            if (debug): print(pad_matrix.shape) \n",
    "            windows.append(pad_matrix)\n",
    "        else:\n",
    "            if (debug): print(\"not enough real data left\", 80 - (80*(i+1)-1 - mel.shape[0]))\n",
    "    return windows\n",
    "a = get_rect_windows(ex_data, debug = True)"
   ]
  },
  {
   "cell_type": "code",
   "execution_count": 140,
   "metadata": {},
   "outputs": [
    {
     "data": {
      "text/plain": [
       "['red', 'blue', 'green', 'red', 'blue', 'green']"
      ]
     },
     "execution_count": 140,
     "metadata": {},
     "output_type": "execute_result"
    }
   ],
   "source": [
    "colors = ['red', 'blue', 'green']\n",
    "colors_1 = ['red', 'blue', 'green']\n",
    "colors.extend(colors_1)\n",
    "colors"
   ]
  },
  {
   "cell_type": "code",
   "execution_count": 160,
   "metadata": {
    "collapsed": true
   },
   "outputs": [],
   "source": [
    "clean_data_wind = []\n",
    "for mel in clean_data:\n",
    "    new_windows = get_rect_windows(mel)\n",
    "    clean_data_wind.extend(new_windows)"
   ]
  },
  {
   "cell_type": "code",
   "execution_count": 163,
   "metadata": {
    "collapsed": true
   },
   "outputs": [],
   "source": [
    "ixgrid = np.ix_(range(80), range(80))"
   ]
  },
  {
   "cell_type": "code",
   "execution_count": 165,
   "metadata": {},
   "outputs": [
    {
     "data": {
      "text/plain": [
       "array([[ True,  True,  True, ...,  True,  True,  True],\n",
       "       [ True,  True,  True, ...,  True,  True,  True],\n",
       "       [ True,  True,  True, ...,  True,  True,  True],\n",
       "       ...,\n",
       "       [ True,  True,  True, ...,  True,  True,  True],\n",
       "       [ True,  True,  True, ...,  True,  True,  True],\n",
       "       [ True,  True,  True, ...,  True,  True,  True]])"
      ]
     },
     "execution_count": 165,
     "metadata": {},
     "output_type": "execute_result"
    }
   ],
   "source": [
    "clean_data[0][ixgrid] == clean_data_wind[0]"
   ]
  },
  {
   "cell_type": "code",
   "execution_count": 167,
   "metadata": {},
   "outputs": [
    {
     "data": {
      "text/plain": [
       "(80, 80)"
      ]
     },
     "execution_count": 167,
     "metadata": {},
     "output_type": "execute_result"
    }
   ],
   "source": [
    "clean_data_wind[0].shape"
   ]
  },
  {
   "cell_type": "code",
   "execution_count": 168,
   "metadata": {
    "collapsed": true
   },
   "outputs": [],
   "source": [
    "for w in clean_data_wind:\n",
    "    if w.shape != (80, 80):\n",
    "        print(\"dsd\")"
   ]
  },
  {
   "cell_type": "code",
   "execution_count": 166,
   "metadata": {
    "collapsed": true
   },
   "outputs": [],
   "source": [
    "noisy_data_wind = []\n",
    "for mel in noisy_data:\n",
    "    new_windows = get_rect_windows(mel)\n",
    "    noisy_data_wind.extend(new_windows)"
   ]
  }
 ],
 "metadata": {
  "kernelspec": {
   "display_name": "Python 3",
   "language": "python",
   "name": "python3"
  },
  "language_info": {
   "codemirror_mode": {
    "name": "ipython",
    "version": 3
   },
   "file_extension": ".py",
   "mimetype": "text/x-python",
   "name": "python",
   "nbconvert_exporter": "python",
   "pygments_lexer": "ipython3",
   "version": "3.6.2"
  }
 },
 "nbformat": 4,
 "nbformat_minor": 2
}
